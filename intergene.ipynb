{
  "nbformat": 4,
  "nbformat_minor": 0,
  "metadata": {
    "colab": {
      "name": "intergene.ipynb",
      "provenance": [],
      "collapsed_sections": [],
      "authorship_tag": "ABX9TyOOQLAUDNS6Ji8uVj4fKNhm",
      "include_colab_link": true
    },
    "kernelspec": {
      "name": "python3",
      "display_name": "Python 3"
    },
    "accelerator": "GPU"
  },
  "cells": [
    {
      "cell_type": "markdown",
      "metadata": {
        "id": "view-in-github",
        "colab_type": "text"
      },
      "source": [
        "<a href=\"https://colab.research.google.com/github/itskov/intergene/blob/master/intergene.ipynb\" target=\"_parent\"><img src=\"https://colab.research.google.com/assets/colab-badge.svg\" alt=\"Open In Colab\"/></a>"
      ]
    },
    {
      "cell_type": "code",
      "metadata": {
        "id": "zaeyxdxxRDrj",
        "colab_type": "code",
        "colab": {}
      },
      "source": [
        "import tensorflow as tf\n",
        "from scipy.io import mmread\n",
        "\n",
        "# Preparing the data.\n",
        "!git clone https://github.com/itskov/intergene.git\n",
        "\n",
        "# Extracting the large data file.\n",
        "! tar xvf ./intergene/data/data.tar.gz -C ./intergene/data\n",
        "\n",
        "# Saving sparse data in mat.\n",
        "mat = mmread('/content/intergene/data/GSE136049_gene_by_cell_count_matrix.txt')\n",
        "\n",
        "# Create model dir\n",
        "! mkdir './savedModel/'"
      ],
      "execution_count": 0,
      "outputs": []
    },
    {
      "cell_type": "code",
      "metadata": {
        "id": "a0nlmKAXBG-l",
        "colab_type": "code",
        "colab": {
          "base_uri": "https://localhost:8080/",
          "height": 51
        },
        "outputId": "ab972979-7d52-42f9-9b30-ce809a15d47b"
      },
      "source": [
        "from tensorflow.keras import Model\n",
        "from tensorflow.keras.layers import Dense\n",
        "\n",
        "import numpy as np\n",
        "\n",
        "class MyModel(Model):\n",
        "    def __init__(self):\n",
        "        super(MyModel, self).__init__()\n",
        "        \n",
        "        self.dense1 = Dense(1000, activation='relu')\n",
        "        self.dense2 = Dense(500, activation='relu')\n",
        "        self.dense3= Dense(1000, activation='relu')\n",
        "        self.out = Dense(21393, activation='relu') \n",
        "\n",
        "    def call(self, inp):\n",
        "        inp = tf.reshape(inp,[-1, 21393])\n",
        "        d1 = self.dense1(inp)\n",
        "        d2 = self.dense2(d1)\n",
        "        d3 = self.dense3(d2)\n",
        "        out = self.out(d3) \n",
        "\n",
        "        return out\n",
        "pass\n",
        "print(tf.config.list_physical_devices('GPU'))\n",
        "print('Done.')\n"
      ],
      "execution_count": 64,
      "outputs": [
        {
          "output_type": "stream",
          "text": [
            "[PhysicalDevice(name='/physical_device:GPU:0', device_type='GPU')]\n",
            "Done.\n"
          ],
          "name": "stdout"
        }
      ]
    },
    {
      "cell_type": "code",
      "metadata": {
        "id": "8EX-RNEUrgXt",
        "colab_type": "code",
        "colab": {}
      },
      "source": [
        "import tensorflow as tf\n",
        "import numpy as np\n",
        "def gene_generator():\n",
        "  for i in range(mat.shape[1]):\n",
        "    current_col = mat.getcol(i).todense()\n",
        "    #current_col = current_col / np.max(current_col)\n",
        "\n",
        "    yield (current_col, current_col)\n",
        "\n",
        "train_data = tf.data.Dataset.from_generator(gene_generator, output_types=(tf.float32, tf.float32)).batch(50)\n",
        "\n",
        "model = MyModel()\n",
        "\n"
      ],
      "execution_count": 0,
      "outputs": []
    },
    {
      "cell_type": "code",
      "metadata": {
        "id": "VY20TGDeQ-hR",
        "colab_type": "code",
        "colab": {}
      },
      "source": [
        "# Strat training.\n",
        "\n",
        "# Comment this if you want to start anew.\n",
        "# model.load_weights('./savedModel/model/')\n",
        "\n",
        "\n",
        "optimizer = tf.keras.optimizers.Adam()\n",
        "#loss_object = tf.keras.losses.CategoricalCrossentropy(from_logits=True)\n",
        "\n",
        "alpha = 0.0001\n",
        "\n",
        "#@tf.function\n",
        "def train_step(x_cells, y_cells):\n",
        "    #print('Train!')\n",
        "    with tf.GradientTape() as tape:\n",
        "        predictions = model(images, training=True)\n",
        "\n",
        "        lin_predictions = tf.reshape(predictions, [-1])\n",
        "        lin_cells = tf.reshape(y_cells, [-1])\n",
        "        \n",
        "        loss = 5 * tf.keras.losses.MSE(lin_predictions, lin_cells)\n",
        "        \n",
        "        \n",
        "    gradients = tape.gradient(loss, model.trainable_variables)\n",
        "    optimizer.apply_gradients(zip(gradients, model.trainable_variables))\n",
        "\n",
        "    #tf.print(loss)\n",
        "    return loss\n",
        "    "
      ],
      "execution_count": 0,
      "outputs": []
    },
    {
      "cell_type": "code",
      "metadata": {
        "id": "eUfP5B71SgGZ",
        "colab_type": "code",
        "colab": {
          "base_uri": "https://localhost:8080/",
          "height": 34
        },
        "outputId": "fbf59129-471b-4382-ee85-d12e6c61e974"
      },
      "source": [
        "# Instantiating the model\n",
        "model = MyModel()\n",
        "# model.load_weights('./savedModel/model/')\n",
        "\n",
        "model.compile(optimizer=tf.keras.optimizers.Adam(),  # Optimizer\n",
        "              # Loss function to minimize\n",
        "              loss=tf.keras.losses.CosineSimilarity())\n",
        "\n",
        "model.fit(train_data, epochs=1)\n",
        "model.save_weights('./savedModel/model/')\n"
      ],
      "execution_count": 0,
      "outputs": [
        {
          "output_type": "stream",
          "text": [
            "     72/Unknown - 3850s 53s/step - loss: -0.6966"
          ],
          "name": "stdout"
        }
      ]
    }
  ]
}